{
 "cells": [
  {
   "cell_type": "code",
   "execution_count": 1,
   "id": "7527690c",
   "metadata": {},
   "outputs": [],
   "source": [
    "import torch\n",
    "from torchdrug import data, datasets\n",
    "from Data import DataSet,Toxcity,rounder,ajout\n",
    "from torchdrug import core, models, tasks, utils\n",
    "smi=\"C1=CC=CC=C1\"\n",
    "def torchDrug(smi:str):\n",
    "    dataset = DataSet(\"data_wassim_imputed_encoded.csv\")\n",
    "    Toxic = Toxcity(\"tox.csv\")\n",
    "    Tox = models.GIN(input_dim=Toxic.node_feature_dim,\n",
    "                   hidden_dims=[256, 256, 256, 256,256,256],\n",
    "                   short_cut=True, batch_norm=True, concat_hidden=True)\n",
    "    taskT = tasks.PropertyPrediction(Tox, task=Toxic.tasks,\n",
    "                                criterion=\"bce\", metric=(\"auroc\",\"auprc\"))\n",
    "    optimizerT= torch.optim.Adam(taskT.parameters(), lr=1e-3)\n",
    "    solverT= core.Engine(taskT, Toxic, Toxic, Toxic, optimizerT,\n",
    "                     gpus=[0], batch_size=1024)\n",
    "    solverT.load(\"clintox_ginToxcity.pth\")\n",
    "    model = models.GIN(input_dim=dataset.node_feature_dim,\n",
    "                   hidden_dims=[256, 256, 256, 256,256,256,256],\n",
    "                   short_cut=True, batch_norm=True, concat_hidden=True)\n",
    "    task = tasks.PropertyPrediction(model, task=dataset.tasks,\n",
    "                                criterion=\"bce\", metric=( \"auprc\"))\n",
    "    optimizer = torch.optim.Adam(task.parameters(), lr=1e-3)\n",
    "    solver = core.Engine(task, dataset,dataset, dataset, optimizer,\n",
    "                     gpus=[0], batch_size=1024)\n",
    "    solver.load(\"clintox_ginMULTI.pth\")\n",
    "    mol = data.Molecule.from_smiles(smi)\n",
    "    xT=Toxic[:1]\n",
    "    xT[0]['graph']=mol\n",
    "    xM=dataset[:1]\n",
    "    xM[0]['graph']=mol\n",
    "    batchT= data.graph_collate(xT)\n",
    "    batchT= utils.cuda(batchT)\n",
    "    predT= torch.nn.functional.sigmoid(taskT.predict(batchT))\n",
    "    batchM= data.graph_collate(xM)\n",
    "    batchM= utils.cuda(batchM)\n",
    "    predM= torch.nn.functional.sigmoid(task.predict(batchM))\n",
    "    a0=predT.tolist()\n",
    "    a1=predM.tolist()\n",
    "    Toxicity=[]\n",
    "    for i in a0 :\n",
    "        if(i[0]>=0.5):\n",
    "            Toxicity.append(1)\n",
    "        else:\n",
    "            Toxicity.append(0)\n",
    "        \n",
    "    Multi=rounder(a1)\n",
    "\n",
    "    Multi=ajout(Multi,Toxicity)\n",
    "    return Multi[0]\n",
    "\n"
   ]
  },
  {
   "cell_type": "code",
   "execution_count": 2,
   "id": "70505e73",
   "metadata": {},
   "outputs": [
    {
     "name": "stderr",
     "output_type": "stream",
     "text": [
      "Loading data_wassim_imputed_encoded.csv: 100%|██████████| 119/119 [00:00<00:00, 64829.48it/s]\n",
      "Constructing molecules from SMILES:  36%|███▋      | 43/118 [00:00<00:00, 428.12it/s]/home/sliti-wassim/anaconda3/envs/torchDrug/lib/python3.8/site-packages/torchdrug/data/feature.py:37: UserWarning: Unknown value `Au`\n",
      "  warnings.warn(\"Unknown value `%s`\" % x)\n",
      "/home/sliti-wassim/anaconda3/envs/torchDrug/lib/python3.8/site-packages/torchdrug/data/feature.py:37: UserWarning: Unknown value `Co`\n",
      "  warnings.warn(\"Unknown value `%s`\" % x)\n",
      "/home/sliti-wassim/anaconda3/envs/torchDrug/lib/python3.8/site-packages/torchdrug/data/feature.py:37: UserWarning: Unknown value `Na`\n",
      "  warnings.warn(\"Unknown value `%s`\" % x)\n",
      "Constructing molecules from SMILES:  77%|███████▋  | 91/118 [00:00<00:00, 453.46it/s]/home/sliti-wassim/anaconda3/envs/torchDrug/lib/python3.8/site-packages/torchdrug/data/feature.py:37: UserWarning: Unknown value `Hg`\n",
      "  warnings.warn(\"Unknown value `%s`\" % x)\n",
      "Constructing molecules from SMILES: 100%|██████████| 118/118 [00:00<00:00, 480.48it/s]\n",
      "Loading tox.csv: 100%|██████████| 107/107 [00:00<00:00, 155452.21it/s]\n",
      "Constructing molecules from SMILES: 100%|██████████| 106/106 [00:00<00:00, 483.99it/s]"
     ]
    },
    {
     "name": "stdout",
     "output_type": "stream",
     "text": [
      "17:30:03   Preprocess training set\n"
     ]
    },
    {
     "name": "stderr",
     "output_type": "stream",
     "text": [
      "\n"
     ]
    },
    {
     "name": "stdout",
     "output_type": "stream",
     "text": [
      "17:30:05   Load checkpoint from clintox_ginToxcity.pth\n",
      "17:30:05   Preprocess training set\n",
      "17:30:05   Load checkpoint from clintox_ginMULTI.pth\n",
      "[0, 1, 1, 0]\n"
     ]
    },
    {
     "name": "stderr",
     "output_type": "stream",
     "text": [
      "/home/sliti-wassim/anaconda3/envs/torchDrug/lib/python3.8/site-packages/torch/nn/functional.py:1709: UserWarning: nn.functional.sigmoid is deprecated. Use torch.sigmoid instead.\n",
      "  warnings.warn(\"nn.functional.sigmoid is deprecated. Use torch.sigmoid instead.\")\n"
     ]
    }
   ],
   "source": [
    "torchDrug(smi)"
   ]
  },
  {
   "cell_type": "code",
   "execution_count": null,
   "id": "34f24be7",
   "metadata": {},
   "outputs": [],
   "source": []
  },
  {
   "cell_type": "code",
   "execution_count": 2,
   "id": "75ba3029",
   "metadata": {},
   "outputs": [],
   "source": []
  },
  {
   "cell_type": "code",
   "execution_count": 3,
   "id": "ee461f40",
   "metadata": {},
   "outputs": [
    {
     "name": "stderr",
     "output_type": "stream",
     "text": [
      "Loading data_wassim_imputed_encoded.csv: 100%|██████████| 119/119 [00:00<00:00, 54969.40it/s]\n",
      "Constructing molecules from SMILES:  38%|███▊      | 45/118 [00:00<00:00, 443.54it/s]/home/sliti-wassim/anaconda3/envs/torchDrug/lib/python3.8/site-packages/torchdrug/data/feature.py:37: UserWarning: Unknown value `Au`\n",
      "  warnings.warn(\"Unknown value `%s`\" % x)\n",
      "/home/sliti-wassim/anaconda3/envs/torchDrug/lib/python3.8/site-packages/torchdrug/data/feature.py:37: UserWarning: Unknown value `Co`\n",
      "  warnings.warn(\"Unknown value `%s`\" % x)\n",
      "/home/sliti-wassim/anaconda3/envs/torchDrug/lib/python3.8/site-packages/torchdrug/data/feature.py:37: UserWarning: Unknown value `Na`\n",
      "  warnings.warn(\"Unknown value `%s`\" % x)\n",
      "Constructing molecules from SMILES:  77%|███████▋  | 91/118 [00:00<00:00, 452.45it/s]/home/sliti-wassim/anaconda3/envs/torchDrug/lib/python3.8/site-packages/torchdrug/data/feature.py:37: UserWarning: Unknown value `Hg`\n",
      "  warnings.warn(\"Unknown value `%s`\" % x)\n",
      "Constructing molecules from SMILES: 100%|██████████| 118/118 [00:00<00:00, 482.59it/s]\n",
      "Loading tox.csv: 100%|██████████| 107/107 [00:00<00:00, 137160.92it/s]\n",
      "Constructing molecules from SMILES: 100%|██████████| 106/106 [00:00<00:00, 485.58it/s]\n"
     ]
    }
   ],
   "source": [
    "\n"
   ]
  },
  {
   "cell_type": "code",
   "execution_count": 4,
   "id": "5da24bc7",
   "metadata": {},
   "outputs": [],
   "source": [
    "lengths = [int(0.7 * len(dataset)), int(0.3 * len(dataset))]\n",
    "lengths += [len(dataset) - sum(lengths)]\n",
    "train_set, valid_set, test_set = torch.utils.data.random_split(dataset, lengths)"
   ]
  },
  {
   "cell_type": "code",
   "execution_count": 5,
   "id": "39d3fae1",
   "metadata": {},
   "outputs": [],
   "source": [
    "lengths = [int(0.7 * len(Toxic)), int(0.3 * len(Toxic))]\n",
    "lengths += [len(Toxic) - sum(lengths)]\n",
    "train_setT, valid_setT, test_setT = torch.utils.data.random_split(Toxic, lengths)"
   ]
  },
  {
   "cell_type": "code",
   "execution_count": 6,
   "id": "266a15bc",
   "metadata": {},
   "outputs": [
    {
     "name": "stdout",
     "output_type": "stream",
     "text": [
      "16:31:49   Preprocess training set\n",
      "16:31:50   Load checkpoint from clintox_ginToxcity.pth\n"
     ]
    }
   ],
   "source": [
    "\n"
   ]
  },
  {
   "cell_type": "code",
   "execution_count": 7,
   "id": "9575e02f",
   "metadata": {},
   "outputs": [
    {
     "name": "stdout",
     "output_type": "stream",
     "text": [
      "16:31:52   Preprocess training set\n",
      "16:31:52   Load checkpoint from clintox_ginMULTI.pth\n",
      "16:31:52   Evaluate on valid\n",
      "16:31:53   >>>>>>>>>>>>>>>>>>>>>>>>>>>>>>\n",
      "16:31:53   auprc [Activity_EC50]: 0.838787\n",
      "16:31:53   auprc [Activity_EC90]: 0.936345\n",
      "16:31:53   auprc [Activity_IC50]: 0.996298\n"
     ]
    },
    {
     "data": {
      "text/plain": [
       "{'auprc [Activity_IC50]': tensor(0.9963, device='cuda:0'),\n",
       " 'auprc [Activity_EC50]': tensor(0.8388, device='cuda:0'),\n",
       " 'auprc [Activity_EC90]': tensor(0.9363, device='cuda:0')}"
      ]
     },
     "execution_count": 7,
     "metadata": {},
     "output_type": "execute_result"
    }
   ],
   "source": [
    "from torchdrug import core, models, tasks, utils\n",
    "\n",
    "model = models.GIN(input_dim=dataset.node_feature_dim,\n",
    "                   hidden_dims=[256, 256, 256, 256,256,256,256],\n",
    "                   short_cut=True, batch_norm=True, concat_hidden=True)\n",
    "task = tasks.PropertyPrediction(model, task=dataset.tasks,\n",
    "                                criterion=\"bce\", metric=( \"auprc\"))\n",
    "\n",
    "optimizer = torch.optim.Adam(task.parameters(), lr=1e-3)\n",
    "solver = core.Engine(task, train_set, valid_set, test_set, optimizer,\n",
    "                     gpus=[0], batch_size=1024)\n",
    "solver.load(\"clintox_ginMULTI.pth\")\n",
    "solver.evaluate(\"valid\")"
   ]
  },
  {
   "cell_type": "code",
   "execution_count": 36,
   "id": "22bf6ad3",
   "metadata": {},
   "outputs": [],
   "source": [
    "batchT= data.graph_collate(Toxic[:1])\n",
    "batchT= utils.cuda(batchT)\n",
    "predT= torch.nn.functional.sigmoid(taskT.predict(batchT))"
   ]
  },
  {
   "cell_type": "code",
   "execution_count": 40,
   "id": "4578ec16",
   "metadata": {},
   "outputs": [],
   "source": [
    "x=Toxic[1]\n",
    "x['graph']=mol"
   ]
  },
  {
   "cell_type": "code",
   "execution_count": 41,
   "id": "fbf7f409",
   "metadata": {},
   "outputs": [
    {
     "data": {
      "text/plain": [
       "{'graph': Molecule(num_node=6, num_edge=12, num_relation=4), 'Toxicity': 0}"
      ]
     },
     "execution_count": 41,
     "metadata": {},
     "output_type": "execute_result"
    }
   ],
   "source": [
    "x"
   ]
  },
  {
   "cell_type": "code",
   "execution_count": null,
   "id": "fc3ac2b4",
   "metadata": {},
   "outputs": [],
   "source": []
  },
  {
   "cell_type": "code",
   "execution_count": 24,
   "id": "7b3bd2e4",
   "metadata": {},
   "outputs": [
    {
     "data": {
      "text/plain": [
       "Molecule(num_node=6, num_edge=12, num_relation=4)"
      ]
     },
     "execution_count": 24,
     "metadata": {},
     "output_type": "execute_result"
    }
   ],
   "source": [
    "mol = data.Molecule.from_smiles(\"C1=CC=CC=C1\")\n",
    "mol"
   ]
  },
  {
   "cell_type": "code",
   "execution_count": 33,
   "id": "c401566f",
   "metadata": {},
   "outputs": [
    {
     "data": {
      "text/plain": [
       "{'graph': Molecule(num_node=18, num_edge=38, num_relation=4), 'Toxicity': 0}"
      ]
     },
     "execution_count": 33,
     "metadata": {},
     "output_type": "execute_result"
    }
   ],
   "source": [
    "\n",
    "x[0]"
   ]
  },
  {
   "cell_type": "code",
   "execution_count": null,
   "id": "5715aaff",
   "metadata": {},
   "outputs": [],
   "source": []
  },
  {
   "cell_type": "code",
   "execution_count": 9,
   "id": "76361122",
   "metadata": {},
   "outputs": [
    {
     "name": "stdout",
     "output_type": "stream",
     "text": [
      "{'graph': PackedMolecule(batch_size=106, num_nodes=[18, 28, 42, ..., 24, 21, 17], num_edges=[38, 60, 90, ..., 52, 46, 36], num_relation=4, device='cuda:0'), 'Toxicity': tensor([0, 0, 0, 0, 0, 0, 0, 0, 0, 0, 0, 0, 0, 0, 0, 0, 0, 0, 0, 0, 0, 0, 0, 0,\n",
      "        0, 0, 0, 0, 0, 0, 0, 0, 0, 0, 0, 0, 0, 0, 0, 0, 0, 0, 0, 0, 0, 0, 0, 0,\n",
      "        0, 0, 0, 0, 0, 0, 0, 0, 0, 0, 0, 0, 0, 0, 0, 0, 0, 0, 0, 1, 0, 0, 0, 0,\n",
      "        0, 0, 0, 0, 0, 0, 0, 0, 0, 0, 0, 0, 0, 0, 0, 0, 0, 0, 0, 0, 0, 0, 0, 0,\n",
      "        0, 0, 0, 0, 0, 0, 0, 0, 0, 0], device='cuda:0')}\n"
     ]
    }
   ],
   "source": [
    "print(batchT)"
   ]
  },
  {
   "cell_type": "code",
   "execution_count": null,
   "id": "7e0c9b47",
   "metadata": {},
   "outputs": [],
   "source": []
  },
  {
   "cell_type": "code",
   "execution_count": 18,
   "id": "3718334a",
   "metadata": {},
   "outputs": [],
   "source": []
  },
  {
   "cell_type": "code",
   "execution_count": null,
   "id": "fd866ce6",
   "metadata": {},
   "outputs": [],
   "source": []
  },
  {
   "cell_type": "code",
   "execution_count": 16,
   "id": "9a0ae196",
   "metadata": {},
   "outputs": [
    {
     "name": "stdout",
     "output_type": "stream",
     "text": [
      "<module 'data' (namespace)>\n"
     ]
    }
   ],
   "source": [
    "print(x)"
   ]
  },
  {
   "cell_type": "code",
   "execution_count": 19,
   "id": "2a7411ed",
   "metadata": {},
   "outputs": [
    {
     "ename": "ValueError",
     "evalue": "`atom_type` should be provided",
     "output_type": "error",
     "traceback": [
      "\u001b[0;31m---------------------------------------------------------------------------\u001b[0m",
      "\u001b[0;31mValueError\u001b[0m                                Traceback (most recent call last)",
      "\u001b[0;32m<ipython-input-19-86129b5a200a>\u001b[0m in \u001b[0;36m<module>\u001b[0;34m\u001b[0m\n\u001b[0;32m----> 1\u001b[0;31m \u001b[0mx\u001b[0m\u001b[0;34m=\u001b[0m\u001b[0mMolecule\u001b[0m\u001b[0;34m(\u001b[0m\u001b[0;34m)\u001b[0m\u001b[0;34m\u001b[0m\u001b[0;34m\u001b[0m\u001b[0m\n\u001b[0m",
      "\u001b[0;32m<ipython-input-18-c48e58246c05>\u001b[0m in \u001b[0;36m__init__\u001b[0;34m(self, edge_list, atom_type, bond_type, formal_charge, explicit_hs, chiral_tag, radical_electrons, atom_map, bond_stereo, stereo_atoms, **kwargs)\u001b[0m\n\u001b[1;32m     49\u001b[0m             \u001b[0mkwargs\u001b[0m\u001b[0;34m[\u001b[0m\u001b[0;34m\"num_relation\"\u001b[0m\u001b[0;34m]\u001b[0m \u001b[0;34m=\u001b[0m \u001b[0mlen\u001b[0m\u001b[0;34m(\u001b[0m\u001b[0mself\u001b[0m\u001b[0;34m.\u001b[0m\u001b[0mbond2id\u001b[0m\u001b[0;34m)\u001b[0m\u001b[0;34m\u001b[0m\u001b[0;34m\u001b[0m\u001b[0m\n\u001b[1;32m     50\u001b[0m         \u001b[0msuper\u001b[0m\u001b[0;34m(\u001b[0m\u001b[0mMolecule\u001b[0m\u001b[0;34m,\u001b[0m \u001b[0mself\u001b[0m\u001b[0;34m)\u001b[0m\u001b[0;34m.\u001b[0m\u001b[0m__init__\u001b[0m\u001b[0;34m(\u001b[0m\u001b[0medge_list\u001b[0m\u001b[0;34m=\u001b[0m\u001b[0medge_list\u001b[0m\u001b[0;34m,\u001b[0m \u001b[0;34m**\u001b[0m\u001b[0mkwargs\u001b[0m\u001b[0;34m)\u001b[0m\u001b[0;34m\u001b[0m\u001b[0;34m\u001b[0m\u001b[0m\n\u001b[0;32m---> 51\u001b[0;31m         \u001b[0matom_type\u001b[0m\u001b[0;34m,\u001b[0m \u001b[0mbond_type\u001b[0m \u001b[0;34m=\u001b[0m \u001b[0mself\u001b[0m\u001b[0;34m.\u001b[0m\u001b[0m_standarize_atom_bond\u001b[0m\u001b[0;34m(\u001b[0m\u001b[0matom_type\u001b[0m\u001b[0;34m,\u001b[0m \u001b[0mbond_type\u001b[0m\u001b[0;34m)\u001b[0m\u001b[0;34m\u001b[0m\u001b[0;34m\u001b[0m\u001b[0m\n\u001b[0m\u001b[1;32m     52\u001b[0m \u001b[0;34m\u001b[0m\u001b[0m\n\u001b[1;32m     53\u001b[0m         \u001b[0mformal_charge\u001b[0m \u001b[0;34m=\u001b[0m \u001b[0mself\u001b[0m\u001b[0;34m.\u001b[0m\u001b[0m_standarize_attribute\u001b[0m\u001b[0;34m(\u001b[0m\u001b[0mformal_charge\u001b[0m\u001b[0;34m,\u001b[0m \u001b[0mself\u001b[0m\u001b[0;34m.\u001b[0m\u001b[0mnum_node\u001b[0m\u001b[0;34m)\u001b[0m\u001b[0;34m\u001b[0m\u001b[0;34m\u001b[0m\u001b[0m\n",
      "\u001b[0;32m<ipython-input-18-c48e58246c05>\u001b[0m in \u001b[0;36m_standarize_atom_bond\u001b[0;34m(self, atom_type, bond_type)\u001b[0m\n\u001b[1;32m     74\u001b[0m     \u001b[0;32mdef\u001b[0m \u001b[0m_standarize_atom_bond\u001b[0m\u001b[0;34m(\u001b[0m\u001b[0mself\u001b[0m\u001b[0;34m,\u001b[0m \u001b[0matom_type\u001b[0m\u001b[0;34m,\u001b[0m \u001b[0mbond_type\u001b[0m\u001b[0;34m)\u001b[0m\u001b[0;34m:\u001b[0m\u001b[0;34m\u001b[0m\u001b[0;34m\u001b[0m\u001b[0m\n\u001b[1;32m     75\u001b[0m         \u001b[0;32mif\u001b[0m \u001b[0matom_type\u001b[0m \u001b[0;32mis\u001b[0m \u001b[0;32mNone\u001b[0m\u001b[0;34m:\u001b[0m\u001b[0;34m\u001b[0m\u001b[0;34m\u001b[0m\u001b[0m\n\u001b[0;32m---> 76\u001b[0;31m             \u001b[0;32mraise\u001b[0m \u001b[0mValueError\u001b[0m\u001b[0;34m(\u001b[0m\u001b[0;34m\"`atom_type` should be provided\"\u001b[0m\u001b[0;34m)\u001b[0m\u001b[0;34m\u001b[0m\u001b[0;34m\u001b[0m\u001b[0m\n\u001b[0m\u001b[1;32m     77\u001b[0m         \u001b[0;32mif\u001b[0m \u001b[0mbond_type\u001b[0m \u001b[0;32mis\u001b[0m \u001b[0;32mNone\u001b[0m\u001b[0;34m:\u001b[0m\u001b[0;34m\u001b[0m\u001b[0;34m\u001b[0m\u001b[0m\n\u001b[1;32m     78\u001b[0m             \u001b[0;32mraise\u001b[0m \u001b[0mValueError\u001b[0m\u001b[0;34m(\u001b[0m\u001b[0;34m\"`bond_type` should be provided\"\u001b[0m\u001b[0;34m)\u001b[0m\u001b[0;34m\u001b[0m\u001b[0;34m\u001b[0m\u001b[0m\n",
      "\u001b[0;31mValueError\u001b[0m: `atom_type` should be provided"
     ]
    }
   ],
   "source": [
    "x=Molecule()"
   ]
  },
  {
   "cell_type": "code",
   "execution_count": null,
   "id": "7a87167e",
   "metadata": {},
   "outputs": [],
   "source": []
  },
  {
   "cell_type": "code",
   "execution_count": null,
   "id": "6016da37",
   "metadata": {},
   "outputs": [],
   "source": []
  },
  {
   "cell_type": "code",
   "execution_count": null,
   "id": "2fed923d",
   "metadata": {},
   "outputs": [],
   "source": []
  },
  {
   "cell_type": "code",
   "execution_count": null,
   "id": "2e5917be",
   "metadata": {},
   "outputs": [],
   "source": []
  },
  {
   "cell_type": "code",
   "execution_count": 26,
   "id": "692afe2a",
   "metadata": {},
   "outputs": [],
   "source": [
    "batchM= data.graph_collate(dataset[:1])\n",
    "batchM= utils.cuda(batchM)\n",
    "predM= torch.nn.functional.sigmoid(task.predict(batchM))"
   ]
  },
  {
   "cell_type": "code",
   "execution_count": 27,
   "id": "dce5a70d",
   "metadata": {},
   "outputs": [
    {
     "data": {
      "text/plain": [
       "[{'graph': Molecule(num_node=52, num_edge=108, num_relation=4),\n",
       "  'Activity_IC50': 1,\n",
       "  'Activity_EC50': 0,\n",
       "  'Activity_EC90': 0}]"
      ]
     },
     "execution_count": 27,
     "metadata": {},
     "output_type": "execute_result"
    }
   ],
   "source": [
    "dataset[:1]"
   ]
  },
  {
   "cell_type": "code",
   "execution_count": null,
   "id": "1c8c4d15",
   "metadata": {},
   "outputs": [],
   "source": []
  },
  {
   "cell_type": "code",
   "execution_count": 32,
   "id": "914142eb",
   "metadata": {},
   "outputs": [],
   "source": [
    "a0=predT.tolist()\n",
    "a1=predM.tolist()\n",
    "Toxic=[]"
   ]
  },
  {
   "cell_type": "code",
   "execution_count": 33,
   "id": "3a94a806",
   "metadata": {},
   "outputs": [],
   "source": [
    "for i in a0 :\n",
    "    if(i[0]>=0.5):\n",
    "        Toxic.append(1)\n",
    "    else:\n",
    "        Toxic.append(0)"
   ]
  },
  {
   "cell_type": "code",
   "execution_count": 40,
   "id": "b5e0d579",
   "metadata": {},
   "outputs": [],
   "source": [
    "Multi=rounder(a1)\n"
   ]
  },
  {
   "cell_type": "code",
   "execution_count": 41,
   "id": "0639782b",
   "metadata": {},
   "outputs": [
    {
     "data": {
      "text/plain": [
       "[[1, 0, 0],\n",
       " [1, 1, 1],\n",
       " [1, 1, 1],\n",
       " [1, 0, 0],\n",
       " [1, 1, 1],\n",
       " [0, 0, 1],\n",
       " [1, 1, 1],\n",
       " [1, 1, 1],\n",
       " [0, 1, 1],\n",
       " [1, 0, 1],\n",
       " [1, 0, 0],\n",
       " [1, 0, 0],\n",
       " [1, 1, 1],\n",
       " [1, 0, 0],\n",
       " [1, 0, 0],\n",
       " [1, 0, 0],\n",
       " [1, 0, 0],\n",
       " [1, 0, 0],\n",
       " [1, 1, 0],\n",
       " [1, 0, 0],\n",
       " [1, 0, 0],\n",
       " [0, 1, 1],\n",
       " [0, 1, 1],\n",
       " [0, 1, 1],\n",
       " [1, 0, 0],\n",
       " [1, 0, 0],\n",
       " [1, 0, 0],\n",
       " [1, 0, 0],\n",
       " [1, 0, 1],\n",
       " [1, 1, 0],\n",
       " [1, 1, 1],\n",
       " [1, 0, 0],\n",
       " [1, 0, 0],\n",
       " [1, 0, 0],\n",
       " [0, 1, 1],\n",
       " [1, 0, 0],\n",
       " [1, 0, 0],\n",
       " [1, 0, 0],\n",
       " [1, 0, 0],\n",
       " [1, 0, 0],\n",
       " [1, 0, 0],\n",
       " [1, 0, 0],\n",
       " [1, 1, 1],\n",
       " [1, 0, 0],\n",
       " [0, 1, 1],\n",
       " [1, 1, 0],\n",
       " [0, 1, 1],\n",
       " [1, 1, 1],\n",
       " [1, 0, 0],\n",
       " [0, 1, 1],\n",
       " [1, 0, 0],\n",
       " [1, 1, 1],\n",
       " [0, 0, 1],\n",
       " [0, 1, 1],\n",
       " [1, 0, 0],\n",
       " [1, 0, 0],\n",
       " [1, 0, 0],\n",
       " [1, 1, 1],\n",
       " [1, 1, 1],\n",
       " [1, 1, 0],\n",
       " [1, 0, 0],\n",
       " [1, 0, 0],\n",
       " [1, 0, 0],\n",
       " [1, 1, 1],\n",
       " [1, 1, 1],\n",
       " [0, 1, 1],\n",
       " [0, 1, 1],\n",
       " [1, 1, 1],\n",
       " [0, 1, 1],\n",
       " [0, 1, 1],\n",
       " [0, 1, 1],\n",
       " [1, 0, 0],\n",
       " [0, 1, 1],\n",
       " [0, 1, 1],\n",
       " [1, 0, 0],\n",
       " [1, 0, 0],\n",
       " [1, 1, 1],\n",
       " [0, 1, 1],\n",
       " [0, 1, 1],\n",
       " [0, 1, 1],\n",
       " [0, 1, 1],\n",
       " [0, 1, 1],\n",
       " [0, 0, 1],\n",
       " [1, 0, 0],\n",
       " [1, 0, 0],\n",
       " [1, 0, 0],\n",
       " [1, 0, 0],\n",
       " [1, 0, 0],\n",
       " [1, 0, 0],\n",
       " [0, 1, 1],\n",
       " [1, 0, 0],\n",
       " [1, 1, 1],\n",
       " [0, 0, 1],\n",
       " [0, 1, 1],\n",
       " [0, 1, 1],\n",
       " [0, 1, 1],\n",
       " [0, 1, 1],\n",
       " [0, 1, 1],\n",
       " [0, 1, 1],\n",
       " [1, 1, 1],\n",
       " [0, 1, 1],\n",
       " [0, 1, 1],\n",
       " [1, 0, 0],\n",
       " [1, 0, 0],\n",
       " [1, 0, 0],\n",
       " [0, 0, 1],\n",
       " [0, 1, 1],\n",
       " [1, 0, 1],\n",
       " [1, 1, 1],\n",
       " [1, 1, 0],\n",
       " [1, 0, 0],\n",
       " [0, 0, 1],\n",
       " [1, 0, 0],\n",
       " [1, 0, 0],\n",
       " [1, 1, 0],\n",
       " [1, 1, 0],\n",
       " [1, 1, 0],\n",
       " [1, 1, 0]]"
      ]
     },
     "execution_count": 41,
     "metadata": {},
     "output_type": "execute_result"
    }
   ],
   "source": [
    "Multi"
   ]
  },
  {
   "cell_type": "code",
   "execution_count": null,
   "id": "2579cfc0",
   "metadata": {},
   "outputs": [],
   "source": []
  },
  {
   "cell_type": "code",
   "execution_count": 43,
   "id": "5c6e7104",
   "metadata": {},
   "outputs": [],
   "source": [
    "def ajout(a,b:list):\n",
    "    for i in range(len(b)):\n",
    "        a[i].append(b[i])\n",
    "    return a "
   ]
  },
  {
   "cell_type": "code",
   "execution_count": 37,
   "id": "b959aa66",
   "metadata": {},
   "outputs": [],
   "source": [
    "Multi=ajout(Multi,Toxic)"
   ]
  },
  {
   "cell_type": "code",
   "execution_count": 42,
   "id": "1787d4bf",
   "metadata": {},
   "outputs": [],
   "source": [
    "right_prediction=[]\n",
    "for i in range(len(dataset)):\n",
    "    sample = dataset[i]\n",
    "    ins=[]\n",
    "    sample.pop(\"graph\")\n",
    "    for (k,v) in sample.items():\n",
    "        ins.append(v)\n",
    "    right_prediction.append(ins)    "
   ]
  },
  {
   "cell_type": "code",
   "execution_count": 43,
   "id": "e4b5029d",
   "metadata": {},
   "outputs": [],
   "source": [
    "final_result=Multi"
   ]
  },
  {
   "cell_type": "code",
   "execution_count": 44,
   "id": "fb6df014",
   "metadata": {},
   "outputs": [
    {
     "name": "stdout",
     "output_type": "stream",
     "text": [
      "EC90\n",
      "IC50\n",
      "EC50\n",
      "EC90\n",
      "IC50\n",
      "EC90\n",
      "IC50\n",
      "EC90\n",
      "EC50\n",
      "IC50\n",
      "EC90\n",
      "EC90\n",
      "IC50\n",
      "EC50\n",
      "EC90\n",
      "EC50\n",
      "EC50\n",
      "IC50\n",
      "IC50\n",
      "IC50\n",
      "EC50\n",
      "EC90\n",
      "EC50\n",
      "EC90\n",
      "EC50\n",
      "EC90\n",
      "EC50\n",
      "IC50\n",
      "EC50\n",
      "IC50\n",
      "EC50\n",
      "EC90\n",
      "EC50\n",
      "EC50\n",
      "EC90\n"
     ]
    }
   ],
   "source": [
    "false=[]\n",
    "right=[]\n",
    "for i in range(len(final_result)):\n",
    "    if(right_prediction[i]==final_result[i]):\n",
    "        right.append(i)\n",
    "    else:\n",
    "        false.append(i)\n",
    "        if(right_prediction[i][0]!=final_result[i][0]):\n",
    "            print(\"IC50\")\n",
    "        if(right_prediction[i][1]!=final_result[i][1]):\n",
    "            print(\"EC50\") \n",
    "        if(right_prediction[i][2]!=final_result[i][2]):\n",
    "            print(\"EC90\") "
   ]
  },
  {
   "cell_type": "code",
   "execution_count": 45,
   "id": "747740ad",
   "metadata": {},
   "outputs": [
    {
     "data": {
      "text/plain": [
       "0.8135593220338984"
      ]
     },
     "execution_count": 45,
     "metadata": {},
     "output_type": "execute_result"
    }
   ],
   "source": [
    "acc=len(right)/len(right_prediction)\n",
    "acc"
   ]
  },
  {
   "cell_type": "code",
   "execution_count": 48,
   "id": "448aa2ce",
   "metadata": {},
   "outputs": [
    {
     "data": {
      "text/plain": [
       "96"
      ]
     },
     "execution_count": 48,
     "metadata": {},
     "output_type": "execute_result"
    }
   ],
   "source": [
    "len(right)"
   ]
  },
  {
   "cell_type": "code",
   "execution_count": null,
   "id": "3b4ddc34",
   "metadata": {},
   "outputs": [],
   "source": []
  },
  {
   "cell_type": "code",
   "execution_count": null,
   "id": "058a3736",
   "metadata": {},
   "outputs": [],
   "source": []
  },
  {
   "cell_type": "code",
   "execution_count": null,
   "id": "6bb9ca47",
   "metadata": {},
   "outputs": [],
   "source": []
  },
  {
   "cell_type": "code",
   "execution_count": 20,
   "id": "c1dea464",
   "metadata": {},
   "outputs": [
    {
     "name": "stderr",
     "output_type": "stream",
     "text": [
      "/home/sliti-wassim/anaconda3/envs/torchDrug/lib/python3.8/site-packages/torch/nn/functional.py:1709: UserWarning: nn.functional.sigmoid is deprecated. Use torch.sigmoid instead.\n",
      "  warnings.warn(\"nn.functional.sigmoid is deprecated. Use torch.sigmoid instead.\")\n"
     ]
    }
   ],
   "source": [
    "batch0= data.graph_collate(dataset_to_predict0[:len(dataset_to_predict0)])\n",
    "batch0= utils.cuda(batch0)\n",
    "pred0= torch.nn.functional.sigmoid(task0.predict(batch0))\n",
    "batch1= data.graph_collate(dataset_to_predict1[:len(dataset_to_predict1)])\n",
    "batch1 = utils.cuda(batch1)\n",
    "pred1= torch.nn.functional.sigmoid(task1.predict(batch1))\n",
    "batch2= data.graph_collate(dataset_to_predict2[:len(dataset_to_predict2)])\n",
    "batch2 = utils.cuda(batch2)\n",
    "pred2= torch.nn.functional.sigmoid(task2.predict(batch2))\n",
    "batch3= data.graph_collate(dataset_to_predict3[:len(dataset_to_predict3)])\n",
    "batch3 = utils.cuda(batch3)\n",
    "pred3= torch.nn.functional.sigmoid(task3.predict(batch3))"
   ]
  },
  {
   "cell_type": "code",
   "execution_count": 21,
   "id": "935281ca",
   "metadata": {},
   "outputs": [],
   "source": [
    "a0=pred0.tolist()\n",
    "a1=pred1.tolist()\n",
    "a2=pred2.tolist()\n",
    "a3=pred3.tolist()"
   ]
  },
  {
   "cell_type": "code",
   "execution_count": 22,
   "id": "075df1d5",
   "metadata": {},
   "outputs": [],
   "source": [
    "IC50_EC50_EC90=rounder(a0)\n",
    "IC50_EC50=rounder(a1)\n",
    "IC50_EC90=rounder(a2)\n",
    "EC50_EC90=rounder(a3)"
   ]
  },
  {
   "cell_type": "code",
   "execution_count": 23,
   "id": "7b4a23d0",
   "metadata": {},
   "outputs": [
    {
     "data": {
      "text/plain": [
       "106"
      ]
     },
     "execution_count": 23,
     "metadata": {},
     "output_type": "execute_result"
    }
   ],
   "source": [
    "len(IC50_EC50_EC90)"
   ]
  },
  {
   "cell_type": "code",
   "execution_count": 37,
   "id": "42ba3366",
   "metadata": {},
   "outputs": [],
   "source": [
    "final_result=ensemble_torchDrug(IC50_EC50_EC90,IC50_EC50,IC50_EC90,EC50_EC90)"
   ]
  },
  {
   "cell_type": "code",
   "execution_count": 25,
   "id": "d90de6ff",
   "metadata": {},
   "outputs": [
    {
     "data": {
      "text/plain": [
       "[[1, 1, 1],\n",
       " [1, 1, 1],\n",
       " [0, 1, 1],\n",
       " [0, 1, 1],\n",
       " [0, 1, 1],\n",
       " [0, 1, 1],\n",
       " [0, 1, 1],\n",
       " [1, 1, 1],\n",
       " [0, 0, 1],\n",
       " [0, 0, 1],\n",
       " [0, 1, 1],\n",
       " [1, 1, 1],\n",
       " [1, 1, 1],\n",
       " [0, 1, 1],\n",
       " [0, 1, 1],\n",
       " [0, 1, 1],\n",
       " [0, 1, 1],\n",
       " [0, 1, 1],\n",
       " [0, 1, 1],\n",
       " [0, 0, 1],\n",
       " [1, 1, 1],\n",
       " [0, 1, 1],\n",
       " [0, 1, 1],\n",
       " [0, 1, 1],\n",
       " [0, 1, 1],\n",
       " [1, 1, 1],\n",
       " [1, 1, 1],\n",
       " [1, 1, 1],\n",
       " [1, 1, 1],\n",
       " [0, 1, 1],\n",
       " [0, 1, 1],\n",
       " [1, 1, 1],\n",
       " [1, 1, 1],\n",
       " [1, 1, 1],\n",
       " [1, 1, 1],\n",
       " [0, 1, 1],\n",
       " [0, 1, 1],\n",
       " [0, 1, 1],\n",
       " [0, 0, 1],\n",
       " [0, 1, 1],\n",
       " [0, 1, 1],\n",
       " [0, 0, 1],\n",
       " [0, 1, 1],\n",
       " [0, 1, 1],\n",
       " [0, 1, 1],\n",
       " [1, 1, 1],\n",
       " [1, 1, 1],\n",
       " [1, 1, 1],\n",
       " [0, 1, 1],\n",
       " [1, 1, 1],\n",
       " [1, 1, 1],\n",
       " [1, 1, 1],\n",
       " [1, 0, 1],\n",
       " [0, 1, 1],\n",
       " [0, 1, 1],\n",
       " [0, 0, 1],\n",
       " [0, 1, 1],\n",
       " [0, 1, 1],\n",
       " [0, 1, 1],\n",
       " [0, 1, 1],\n",
       " [0, 1, 1],\n",
       " [0, 1, 1],\n",
       " [0, 1, 1],\n",
       " [0, 1, 1],\n",
       " [0, 1, 1],\n",
       " [0, 1, 1],\n",
       " [1, 1, 1],\n",
       " [0, 1, 1],\n",
       " [1, 1, 1],\n",
       " [1, 1, 1],\n",
       " [1, 1, 1],\n",
       " [1, 1, 1],\n",
       " [0, 1, 1],\n",
       " [0, 1, 1],\n",
       " [0, 1, 1],\n",
       " [0, 1, 1],\n",
       " [0, 1, 1],\n",
       " [1, 1, 1],\n",
       " [1, 1, 1],\n",
       " [0, 1, 1],\n",
       " [1, 1, 1],\n",
       " [1, 1, 1],\n",
       " [1, 1, 1],\n",
       " [1, 1, 1],\n",
       " [1, 1, 1],\n",
       " [1, 1, 1],\n",
       " [1, 1, 1],\n",
       " [1, 1, 1],\n",
       " [1, 1, 1],\n",
       " [1, 1, 1],\n",
       " [1, 1, 1],\n",
       " [1, 1, 1],\n",
       " [1, 1, 1],\n",
       " [1, 1, 1],\n",
       " [1, 1, 1],\n",
       " [1, 1, 1],\n",
       " [1, 1, 1],\n",
       " [1, 1, 1],\n",
       " [1, 1, 1],\n",
       " [1, 1, 1],\n",
       " [0, 1, 1],\n",
       " [1, 1, 1],\n",
       " [1, 1, 1],\n",
       " [0, 1, 1],\n",
       " [1, 1, 1],\n",
       " [1, 1, 1]]"
      ]
     },
     "execution_count": 25,
     "metadata": {},
     "output_type": "execute_result"
    }
   ],
   "source": [
    "final_result"
   ]
  },
  {
   "cell_type": "code",
   "execution_count": 27,
   "id": "deacbc88",
   "metadata": {},
   "outputs": [],
   "source": [
    "right_prediction=[]\n",
    "for i in range(len(dataset0)):\n",
    "    sample = dataset0[i]\n",
    "    ins=[]\n",
    "    sample.pop(\"graph\")\n",
    "    for (k,v) in sample.items():\n",
    "        ins.append(v)\n",
    "    right_prediction.append(ins)    "
   ]
  },
  {
   "cell_type": "code",
   "execution_count": 31,
   "id": "52bae4ff",
   "metadata": {},
   "outputs": [
    {
     "data": {
      "text/plain": [
       "106"
      ]
     },
     "execution_count": 31,
     "metadata": {},
     "output_type": "execute_result"
    }
   ],
   "source": [
    "len(right_prediction)"
   ]
  },
  {
   "cell_type": "code",
   "execution_count": 32,
   "id": "b9c31a13",
   "metadata": {},
   "outputs": [],
   "source": [
    "final_result=IC50_EC50_EC90"
   ]
  },
  {
   "cell_type": "code",
   "execution_count": 38,
   "id": "45ee3d02",
   "metadata": {},
   "outputs": [
    {
     "name": "stdout",
     "output_type": "stream",
     "text": [
      "IC50\n",
      "IC50\n",
      "IC50\n",
      "EC90\n",
      "IC50\n",
      "IC50\n",
      "IC50\n"
     ]
    }
   ],
   "source": [
    "false=[]\n",
    "right=[]\n",
    "for i in range(len(final_result)):\n",
    "    if(right_prediction[i]==final_result[i]):\n",
    "        right.append(i)\n",
    "    else:\n",
    "        false.append(i)\n",
    "        if(right_prediction[i][0]!=final_result[i][0]):\n",
    "            print(\"IC50\")\n",
    "        if(right_prediction[i][1]!=final_result[i][1]):\n",
    "            print(\"EC50\") \n",
    "        if(right_prediction[i][2]!=final_result[i][2]):\n",
    "            print(\"EC90\")     "
   ]
  },
  {
   "cell_type": "code",
   "execution_count": 39,
   "id": "f0d9935e",
   "metadata": {},
   "outputs": [
    {
     "data": {
      "text/plain": [
       "7"
      ]
     },
     "execution_count": 39,
     "metadata": {},
     "output_type": "execute_result"
    }
   ],
   "source": [
    "len(false)"
   ]
  },
  {
   "cell_type": "code",
   "execution_count": null,
   "id": "4db3fc0c",
   "metadata": {},
   "outputs": [],
   "source": [
    "\n"
   ]
  },
  {
   "cell_type": "code",
   "execution_count": 40,
   "id": "eb00ff12",
   "metadata": {},
   "outputs": [
    {
     "data": {
      "text/plain": [
       "0.9339622641509434"
      ]
     },
     "execution_count": 40,
     "metadata": {},
     "output_type": "execute_result"
    }
   ],
   "source": [
    "acc=len(right)/len(right_prediction)\n",
    "acc"
   ]
  },
  {
   "cell_type": "code",
   "execution_count": null,
   "id": "13e4c08b",
   "metadata": {},
   "outputs": [],
   "source": []
  },
  {
   "cell_type": "code",
   "execution_count": null,
   "id": "3cc44074",
   "metadata": {},
   "outputs": [],
   "source": []
  },
  {
   "cell_type": "code",
   "execution_count": null,
   "id": "674c12ac",
   "metadata": {},
   "outputs": [],
   "source": []
  },
  {
   "cell_type": "code",
   "execution_count": null,
   "id": "ee7dbf74",
   "metadata": {},
   "outputs": [],
   "source": []
  },
  {
   "cell_type": "code",
   "execution_count": null,
   "id": "aba2433f",
   "metadata": {},
   "outputs": [],
   "source": []
  },
  {
   "cell_type": "code",
   "execution_count": 66,
   "id": "53da908a",
   "metadata": {},
   "outputs": [
    {
     "name": "stdout",
     "output_type": "stream",
     "text": [
      "[7, 48, 66, 67, 79, 100, 103]\n",
      "[1, 1, 1]\n",
      "[0, 1, 1]\n",
      "[1, 1, 1]\n",
      "[0, 1, 1]\n",
      "[0, 1, 1]\n",
      "[0, 1, 1]\n",
      "[0, 1, 1]\n"
     ]
    },
    {
     "data": {
      "image/png": "[encoded data removed]",
      "text/plain": [
       "<Figure size 1512x216 with 7 Axes>"
      ]
     },
     "metadata": {
      "needs_background": "light"
     },
     "output_type": "display_data"
    }
   ],
   "source": [
    "graphs = []\n",
    "labels = []\n",
    "print(false)\n",
    "for i in false:\n",
    "    print(final_result[i])\n",
    "    sample = dataset0[i]\n",
    "    graphs.append(sample.pop(\"graph\"))\n",
    "    label = [\" %d\" %  v for k, v in sample.items()]\n",
    "    label = \", \".join(label)\n",
    "    labels.append(label)\n",
    "graph = data.Molecule.pack(graphs)\n",
    "graph.visualize(labels, num_row=1)"
   ]
  },
  {
   "cell_type": "code",
   "execution_count": 1,
   "id": "a80ad7a6",
   "metadata": {},
   "outputs": [
    {
     "data": {
      "image/png": "[encoded data removed]",
      "text/plain": [
       "<Figure size 432x288 with 1 Axes>"
      ]
     },
     "metadata": {
      "needs_background": "light"
     },
     "output_type": "display_data"
    }
   ],
   "source": [
    "import matplotlib.pyplot as plt\n",
    "plt.plot([1,2,3],[5,7,4])\n",
    "plt.show()"
   ]
  },
  {
   "cell_type": "code",
   "execution_count": null,
   "id": "18ebc5ff",
   "metadata": {},
   "outputs": [],
   "source": []
  }
 ],
 "metadata": {
  "kernelspec": {
   "display_name": "torchDrug",
   "language": "python",
   "name": "torchdrug"
  },
  "language_info": {
   "codemirror_mode": {
    "name": "ipython",
    "version": 3
   },
   "file_extension": ".py",
   "mimetype": "text/x-python",
   "name": "python",
   "nbconvert_exporter": "python",
   "pygments_lexer": "ipython3",
   "version": "3.8.11"
  }
 },
 "nbformat": 4,
 "nbformat_minor": 5
}
